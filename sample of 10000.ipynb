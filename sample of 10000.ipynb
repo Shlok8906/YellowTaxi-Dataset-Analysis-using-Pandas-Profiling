{
 "cells": [
  {
   "cell_type": "code",
   "execution_count": null,
   "id": "9305ffb0-4841-428f-b9ae-155ad3cb77bf",
   "metadata": {},
   "outputs": [],
   "source": [
    "from ydata_profiling import ProfileReport\n",
    "import pandas as pd\n",
    "df=pd.read_csv('yellow_tripdata_2025-01.csv')\n",
    "prof=ProfileReport(df.sample(10000))\n",
    "prof.to_file(output_file='fil2.html')"
   ]
  }
 ],
 "metadata": {
  "kernelspec": {
   "display_name": "Python 3 (ipykernel)",
   "language": "python",
   "name": "python3"
  },
  "language_info": {
   "codemirror_mode": {
    "name": "ipython",
    "version": 3
   },
   "file_extension": ".py",
   "mimetype": "text/x-python",
   "name": "python",
   "nbconvert_exporter": "python",
   "pygments_lexer": "ipython3",
   "version": "3.12.7"
  }
 },
 "nbformat": 4,
 "nbformat_minor": 5
}
